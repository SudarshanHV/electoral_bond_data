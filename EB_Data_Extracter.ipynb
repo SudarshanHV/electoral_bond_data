{
 "cells": [
  {
   "cell_type": "code",
   "execution_count": null,
   "metadata": {},
   "outputs": [],
   "source": [
    "!pip install pdfplumber"
   ]
  },
  {
   "cell_type": "code",
   "execution_count": null,
   "metadata": {},
   "outputs": [],
   "source": [
    "import pdfplumber\n",
    "import pandas as pd\n",
    "\n",
    "def extract_data_from_pdf(pdf_file_path):\n",
    "    data = []\n",
    "    with pdfplumber.open(pdf_file_path) as pdf:\n",
    "        for page in pdf.pages:\n",
    "            # Extract text data from the page\n",
    "            text = page.extract_text()\n",
    "            # Split text into lines\n",
    "            lines = text.split('\\n')\n",
    "            # Initialize a dictionary to hold data for this page\n",
    "            page_data = {}\n",
    "            # Extract data based on column names\n",
    "            for line in lines:\n",
    "                if \"Sr No.\" in line or \"Reference No (URN)\" in line:\n",
    "                    page_data[\"Sr No.\"] = line.split(\"Sr No.\")[-1].strip()\n",
    "                elif \"Journal Date\" in line:\n",
    "                    page_data[\"Journal Date\"] = line.split(\"Journal Date\")[-1].strip()\n",
    "                elif \"Date of Purchase\" in line:\n",
    "                    page_data[\"Date of Purchase\"] = line.split(\"Date of Purchase\")[-1].strip()\n",
    "                elif \"Date of Expiry\" in line:\n",
    "                    page_data[\"Date of Expiry\"] = line.split(\"Date of Expiry\")[-1].strip()\n",
    "                elif \"Name of the Purchaser\" in line:\n",
    "                    page_data[\"Name of the Purchaser\"] = line.split(\"Name of the Purchaser\")[-1].strip()\n",
    "                elif \"Prefix\" in line:\n",
    "                    page_data[\"Prefix\"] = line.split(\"Prefix\")[-1].strip()\n",
    "                elif \"Bond Number\" in line:\n",
    "                    page_data[\"Bond Number\"] = line.split(\"Bond Number\")[-1].strip()\n",
    "                elif \"Denominations\" in line:\n",
    "                    page_data[\"Denominations\"] = line.split(\"Denominations\")[-1].strip()\n",
    "                elif \"Issue Branch Code\" in line:\n",
    "                    page_data[\"Issue Branch Code\"] = line.split(\"Issue Branch Code\")[-1].strip()\n",
    "                elif \"Issue Teller\" in line:\n",
    "                    page_data[\"Issue Teller\"] = line.split(\"Issue Teller\")[-1].strip()\n",
    "                elif \"Status\" in line:\n",
    "                    page_data[\"Status\"] = line.split(\"Status\")[-1].strip()\n",
    "            # Add page data to the overall data list\n",
    "            data.append(page_data)\n",
    "    return data\n",
    "\n",
    "# Provide the path to your PDF file\n",
    "pdf_file_path = \"data/Electoral Bonds Purchase.pdf\"\n",
    "extracted_data = extract_data_from_pdf(pdf_file_path)\n",
    "\n",
    "# Convert extracted data to DataFrame\n",
    "df = pd.DataFrame(extracted_data)\n",
    "\n",
    "# Convert 'Denominations' column to numeric\n",
    "df['Denominations'] = pd.to_numeric(df['Denominations'], errors='coerce')\n",
    "\n",
    "# Drop rows with NaN values in 'Name of the Purchaser' or 'Denominations'\n",
    "df.dropna(subset=['Name of the Purchaser', 'Denominations'], inplace=True)\n",
    "\n",
    "# Group by 'Name of the Purchaser' and sum 'Denominations' for each company\n",
    "company_totals = df.groupby('Name of the Purchaser')['Denominations'].sum()\n",
    "\n",
    "# Visualize the data\n",
    "import matplotlib.pyplot as plt\n",
    "\n",
    "plt.figure(figsize=(10, 6))\n",
    "company_totals.plot(kind='bar')\n",
    "plt.title('Total Denominations Purchased by Company')\n",
    "plt.xlabel('Company')\n",
    "plt.ylabel('Total Denominations')\n",
    "plt.xticks(rotation=45, ha='right')\n",
    "plt.tight_layout()\n",
    "plt.show()"
   ]
  },
  {
   "cell_type": "code",
   "execution_count": null,
   "metadata": {},
   "outputs": [],
   "source": []
  }
 ],
 "metadata": {
  "kernelspec": {
   "display_name": "Python 3",
   "language": "python",
   "name": "python3"
  },
  "language_info": {
   "codemirror_mode": {
    "name": "ipython",
    "version": 3
   },
   "file_extension": ".py",
   "mimetype": "text/x-python",
   "name": "python",
   "nbconvert_exporter": "python",
   "pygments_lexer": "ipython3",
   "version": "3.7.6"
  }
 },
 "nbformat": 4,
 "nbformat_minor": 4
}
